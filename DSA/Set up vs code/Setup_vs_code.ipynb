{
 "cells": [
  {
   "cell_type": "markdown",
   "id": "c6a1068d-557e-4e88-bc8d-2a3c9ab54c71",
   "metadata": {},
   "source": [
    "# Setting up VS Code to use test cases over your code"
   ]
  },
  {
   "cell_type": "markdown",
   "id": "ebe1532a-4d1e-40c7-b5a6-50839dcec9e1",
   "metadata": {},
   "source": [
    "The setup will look like."
   ]
  },
  {
   "cell_type": "markdown",
   "id": "a51cefa5-a00f-4f58-960a-9b0a18aa4ea8",
   "metadata": {},
   "source": [
    "<img src=\"../img/Vs_code_setup.png\">"
   ]
  },
  {
   "cell_type": "markdown",
   "id": "cec25a07-17e2-4f8a-9b1e-685a1c2f49fe",
   "metadata": {},
   "source": [
    "## pre requisite"
   ]
  },
  {
   "cell_type": "markdown",
   "id": "85a2f467-2782-422b-b085-5f30622c6f2a",
   "metadata": {},
   "source": [
    "- Python on your system <a href=\"https://www.python.org/downloads/\">Click Here to download Python</a>\n",
    "- VS Code <a href=\"https://code.visualstudio.com/\">Click Here to download VS Code</a>\n",
    "- Setting up Python in VS Code <a href=\"https://www.youtube.com/watch?v=KkVLNvFh0-M\">Click Here to setup Python for VS Code</a>"
   ]
  },
  {
   "cell_type": "markdown",
   "id": "9d08d409-a0e6-4119-b91d-7f90b8b27cc1",
   "metadata": {},
   "source": [
    "## Let's setup"
   ]
  },
  {
   "cell_type": "markdown",
   "id": "136f21e5-2547-4b55-adbe-a92c831ce858",
   "metadata": {},
   "source": [
    "**Step 1:** Create a folder to store all your programs, in my case I named it DSA.<br>\n",
    "**Step 2:** Open that folder in VS Code.<br>\n",
    "**Step 3:** Create a demo python file with smalple code that take input and prints something.<br>\n",
    "\n",
    "```\n",
    "sample code:\n",
    "\n",
    "name = input()\n",
    "print(\"Hi \", name)\n",
    "```\n",
    "\n",
    "**Step 4:** now create a file named input.txt and a file with name output.txt<br>\n",
    "**Step 5:** now <br>\n",
    "- go to view,\n",
    "- then to editor layout,\n",
    "- click on split left\n",
    "\n",
    "This will separate the main python file to the left from the input and output files.<br>\n",
    "\n",
    "<img src=\"../img/Vs_code_setup1.png\" width=\"700px\"><br>\n",
    "\n",
    "**Step 6:** To split input and output in two sections, have your cursor on input.txt file and then follow the same steps<br>\n",
    "- go to view,\n",
    "- then to editor layout,\n",
    "- click on split down<br>\n",
    "\n",
    "<img src=\"../img/Vs_code_setup2.png\" width=\"700px\"><br>\n",
    "\n",
    "**Step 7:** Since we have created and aligned the input and output files, we have to run these files. To make sure our input gives an output, we will have to configure it.<br>\n",
    "- go to Terminal,\n",
    "- then to Configure Tasks,\n",
    "- click on Create task.json file template,\n",
    "- then click others\n",
    "\n",
    "<img src=\"../img/Vs_code_setup3.png\" width=\"700px\"><br>\n",
    "\n",
    "<img src=\"../img/Vs_code_setup4.png\" width=\"700px\"><br>\n",
    "\n",
    "<img src=\"../img/Vs_code_setup5.png\" width=\"700px\"><br>\n",
    "\n",
    "**Step 8:** This will create a new .vscode file and, in that, a tasks.json file, clear the current text in the json file and paste the following code.\n",
    "\n",
    "- **For Mac Users**\n",
    "\n",
    "```\n",
    "{\n",
    "    \"version\": \"2.0.0\",\n",
    "    \"tasks\": [\n",
    "        {\n",
    "            \"label\": \"Compile and run\",\n",
    "            \"type\": \"shell\",\n",
    "            \"command\": \"python3\",\n",
    "            \"args\": [\n",
    "                \"${relativeFile}\",\n",
    "                \"<\",\n",
    "                \"input.txt\",\n",
    "                \">\",\n",
    "                \"output.txt\"\n",
    "            ],\n",
    "            \"presentation\": {\n",
    "                \"reveal\": \"never\"\n",
    "            },\n",
    "            \"group\": {\n",
    "                \"kind\": \"build\",\n",
    "                \"isDefault\": true\n",
    "            },\n",
    "            \"problemMatcher\": {\n",
    "                \"owner\": \"python\",\n",
    "                \"fileLocation\": [\n",
    "                    \"relative\",\n",
    "                    \"${workspaceFolder}\"\n",
    "                ],\n",
    "                \"pattern\": {\n",
    "                    \"regexp\": \"^(.*):(\\\\d+):(\\\\d+):\\\\s+(warning|error):\\\\s+(.*)$\",\n",
    "                    \"file\": 1,\n",
    "                    \"line\": 2,\n",
    "                    \"column\": 3,\n",
    "                    \"severity\": 4,\n",
    "                    \"message\": 5\n",
    "                }\n",
    "            }\n",
    "        }\n",
    "    ]\n",
    "}\n",
    "```\n",
    "\n",
    "- **For Windows Users**\n",
    "\n",
    "```\n",
    "{\n",
    "    \"version\": \"2.0.0\",\n",
    "    \"tasks\": [\n",
    "        {\n",
    "            \"label\": \"Compile and run\",\n",
    "            \"type\": \"shell\",\n",
    "            \"command\": \"\",\n",
    "            \"args\": [\n",
    "                \"python3\",\n",
    "                \"${relativeFile}\",\n",
    "                \"<\",\n",
    "                \"input.txt\",\n",
    "                \">\",\n",
    "                \"output.txt\"\n",
    "            ],\n",
    "            \"presentation\": {\n",
    "                \"reveal\": \"never\"\n",
    "            },\n",
    "            \"group\": {\n",
    "                \"kind\": \"build\",\n",
    "                \"isDefault\": true\n",
    "            },\n",
    "            \"problemMatcher\": {\n",
    "                \"owner\": \"py\",\n",
    "                \"fileLocation\": [\n",
    "                    \"relative\",\n",
    "                    \"${workspaceRoot}\"\n",
    "                ],\n",
    "                \"pattern\": {\n",
    "                    \"regexp\": \"^(.*):(\\\\d+):(\\\\d+):\\\\s+(warning|error):\\\\s+(.*)$\",\n",
    "                    \"file\": 1,\n",
    "                    \"line\": 2,\n",
    "                    \"column\": 3,\n",
    "                    \"severity\": 4,\n",
    "                    \"message\": 5\n",
    "                }\n",
    "            }\n",
    "        }\n",
    "    ]\n",
    "}\n",
    "```"
   ]
  },
  {
   "cell_type": "markdown",
   "id": "354d89aa-62f7-4565-a835-ea370f78277c",
   "metadata": {},
   "source": [
    "## Run the code"
   ]
  },
  {
   "cell_type": "markdown",
   "id": "28715b07-859b-40b9-9d94-0def8ece391b",
   "metadata": {},
   "source": [
    "**Step 1:** To run the code you need to write the code inside the python file, save it.<br>\n",
    "**Step 2:** Enter the input or test case inside the input.txt file, save it.<br>\n",
    "**Step 3:** have your cursor on python file.<br>\n",
    "**Step 4:** \n",
    "- For Mac Users: press (cmd+shift+B)\n",
    "- For Windows Users: press (ctrl+shift+B)\n",
    "\n",
    "**Step 5:** You will get your output in output.txt"
   ]
  }
 ],
 "metadata": {
  "kernelspec": {
   "display_name": "Python 3 (ipykernel)",
   "language": "python",
   "name": "python3"
  },
  "language_info": {
   "codemirror_mode": {
    "name": "ipython",
    "version": 3
   },
   "file_extension": ".py",
   "mimetype": "text/x-python",
   "name": "python",
   "nbconvert_exporter": "python",
   "pygments_lexer": "ipython3",
   "version": "3.9.6"
  }
 },
 "nbformat": 4,
 "nbformat_minor": 5
}
