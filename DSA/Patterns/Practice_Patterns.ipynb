{
 "cells": [
  {
   "cell_type": "markdown",
   "id": "8a134bee-8977-4e81-a87d-d7568533d126",
   "metadata": {},
   "source": [
    "# Practice Patterns\n",
    "\n",
    "try to solve it by your own, if stuck can look at the solution."
   ]
  },
  {
   "cell_type": "markdown",
   "id": "e22de539-5016-40fe-a22f-9734cb89f052",
   "metadata": {},
   "source": [
    "## Pattern 1:\n",
    "\n",
    "<img src=\"../img/Pattern1.png\" >\n",
    "\n",
    "<a href=\"https://www.naukri.com/code360/problems/n-forest_6570177\">link to coding_ninjas problem\n",
    "</a>\n",
    "\n",
    "[Click here for solution](./Pattern1.py) "
   ]
  },
  {
   "cell_type": "markdown",
   "id": "aac3114c-0ff4-4403-8773-eb6dac8a8137",
   "metadata": {},
   "source": [
    "## Pattern 2:\n",
    "\n",
    "<img src=\"../img/Pattern2.png\" >\n",
    "\n",
    "<a href=\"https://www.naukri.com/code360/problems/n-2-forest_6570178\">link to coding_ninjas problem</a>\n",
    "\n",
    "[Click here for solution](./Pattern2.py) "
   ]
  },
  {
   "cell_type": "markdown",
   "id": "35293b61-1bf9-497e-a87e-455fdcdd2110",
   "metadata": {},
   "source": [
    "## Pattern 3:\n",
    "\n",
    "<img src=\"../img/Pattern3.png\" >\n",
    "\n",
    "<a href=\"https://www.naukri.com/code360/problems/n-triangles_6573689\">link to coding_ninjas problem</a>\n",
    "\n",
    "[Click here for solution](./Pattern3.py) "
   ]
  },
  {
   "cell_type": "markdown",
   "id": "afcca0d8-d09c-44cf-9e76-44fbcf062c51",
   "metadata": {},
   "source": [
    "## Pattern 4:\n",
    "\n",
    "<img src=\"../img/Pattern4.png\" >\n",
    "\n",
    "<a href=\"https://www.naukri.com/code360/problems/triangle_6573690\">link to coding_ninjas problem</a>\n",
    "\n",
    "[Click here for solution](./Pattern4.py) "
   ]
  },
  {
   "cell_type": "markdown",
   "id": "af49e26e-367a-41aa-83e7-7153c256260a",
   "metadata": {},
   "source": [
    "## Pattern 5:\n",
    "\n",
    "<img src=\"../img/Pattern5.png\" >\n",
    "\n",
    "<a href=\"https://www.naukri.com/code360/problems/seeding_6581892\">link to coding_ninjas problem</a>\n",
    "\n",
    "[Click here for solution](./Pattern5.py) "
   ]
  },
  {
   "cell_type": "markdown",
   "id": "80e8a509-1f9d-4e50-aa77-c8827534f9dd",
   "metadata": {},
   "source": [
    "## Pattern 6:\n",
    "\n",
    "<img src=\"../img/Pattern6.png\" >\n",
    "\n",
    "<a href=\"https://www.naukri.com/code360/problems/reverse-number-triangle_6581889\">link to coding_ninjas problem</a>\n",
    "\n",
    "[Click here for solution](./Pattern6.py) "
   ]
  },
  {
   "cell_type": "markdown",
   "id": "d4d9b281-08f1-4181-af79-04be4acf5bc0",
   "metadata": {},
   "source": [
    "## Pattern 7:\n",
    "\n",
    "<img src=\"../img/Pattern7.png\" >\n",
    "\n",
    "<a href=\"https://www.naukri.com/code360/problems/star-triangle_6573671\">link to coding_ninjas problem</a>\n",
    "\n",
    "[Click here for solution](./Pattern7.py) "
   ]
  },
  {
   "cell_type": "markdown",
   "id": "b43f0597-8d7e-40a3-bfea-781e02b72e9b",
   "metadata": {},
   "source": [
    "## Pattern 8:\n",
    "\n",
    "<img src=\"../img/Pattern8.png\" >\n",
    "\n",
    "<a href=\"https://www.naukri.com/code360/problems/reverse-star-triangle_6573685\">link to coding_ninjas problem</a>\n",
    "\n",
    "[Click here for solution](./Pattern8.py) "
   ]
  },
  {
   "cell_type": "markdown",
   "id": "1dcb5aca-d66a-4f96-9e65-693b8eea39b2",
   "metadata": {},
   "source": [
    "## Pattern 9:\n",
    "\n",
    "<img src=\"../img/Pattern9.png\" >\n",
    "\n",
    "<a href=\"https://www.naukri.com/code360/problems/star-diamond_6573686\">link to coding_ninjas problem</a>\n",
    "\n",
    "[Click here for solution](./Pattern9.py) "
   ]
  },
  {
   "cell_type": "markdown",
   "id": "aeaea9d3-8e8b-4ab0-b556-27addb6bd95b",
   "metadata": {},
   "source": [
    "## Pattern 10:\n",
    "\n",
    "<img src=\"../img/Pattern10.png\" >\n",
    "\n",
    "<a href=\"https://www.naukri.com/code360/problems/star-diamond_6573688\">link to coding_ninjas problem</a>\n",
    "\n",
    "[Click here for solution](./Pattern10.py) "
   ]
  },
  {
   "cell_type": "markdown",
   "id": "ccf9d79c-72b5-478b-b13b-60445f551011",
   "metadata": {},
   "source": [
    "## Pattern 11:\n",
    "\n",
    "<img src=\"../img/Pattern11.png\" >\n",
    "\n",
    "<a href=\"https://www.naukri.com/code360/problems/binary-number-triangle_6581890\">link to coding_ninjas problem</a>\n",
    "\n",
    "[Click here for solution](./Pattern11.py) "
   ]
  },
  {
   "cell_type": "markdown",
   "id": "1c93401f-2bab-44bc-a5ab-cca0def50135",
   "metadata": {},
   "source": [
    "## Pattern 12:\n",
    "\n",
    "<img src=\"../img/Pattern12.png\" >\n",
    "\n",
    "<a href=\"https://www.naukri.com/code360/problems/number-crown_6581894\">link to coding_ninjas problem</a>\n",
    "\n",
    "[Click here for solution](./Pattern12.py) "
   ]
  },
  {
   "cell_type": "markdown",
   "id": "83206685-b0d6-46a0-9a6b-b62c919a0d2c",
   "metadata": {},
   "source": [
    "## Pattern 13:\n",
    "\n",
    "<img src=\"../img/Pattern13.png\" >\n",
    "\n",
    "<a href=\"https://www.naukri.com/code360/problems/increasing-number-triangle_6581893\">link to coding_ninjas problem</a>\n",
    "\n",
    "[Click here for solution](./Pattern13.py) "
   ]
  },
  {
   "cell_type": "markdown",
   "id": "2f5704c2-89ed-47fe-b134-b504d3727172",
   "metadata": {},
   "source": [
    "## Pattern 14:\n",
    "\n",
    "<img src=\"../img/Pattern14.png\" >\n",
    "\n",
    "<a href=\"https://www.naukri.com/code360/problems/increasing-letter-triangle_6581897\">link to coding_ninjas problem</a>\n",
    "\n",
    "[Click here for solution](./Pattern14.py) "
   ]
  },
  {
   "cell_type": "markdown",
   "id": "86ae1514-b853-4028-b322-0f97e1ef75c6",
   "metadata": {},
   "source": [
    "## Pattern 15:\n",
    "\n",
    "<img src=\"../img/Pattern15.png\" >\n",
    "\n",
    "<a href=\"https://www.naukri.com/code360/problems/reverse-letter-triangle_6581906\">link to coding_ninjas problem</a>\n",
    "\n",
    "[Click here for solution](./Pattern15.py) "
   ]
  },
  {
   "cell_type": "markdown",
   "id": "eda7644d-f3b9-4767-9797-3243484c0342",
   "metadata": {},
   "source": [
    "## Pattern 16:\n",
    "\n",
    "<img src=\"../img/Pattern16.png\" >\n",
    "\n",
    "<a href=\"https://www.naukri.com/code360/problems/alpha-ramp_6581888\">link to coding_ninjas problem</a>\n",
    "\n",
    "[Click here for solution](./Pattern16.py) "
   ]
  },
  {
   "cell_type": "markdown",
   "id": "08c01ec9-8280-4be8-974c-8b8dc2f6d723",
   "metadata": {},
   "source": [
    "## Pattern 17:\n",
    "\n",
    "<img src=\"../img/Pattern17.png\" >\n",
    "\n",
    "<a href=\"https://www.naukri.com/code360/problems/alpha-hill_6581921\">link to coding_ninjas problem</a>\n",
    "\n",
    "[Click here for solution](./Pattern17.py) "
   ]
  },
  {
   "cell_type": "markdown",
   "id": "09619d7a-6bd7-4b47-b0f5-d18d8914455f",
   "metadata": {},
   "source": [
    "## Pattern 18:\n",
    "\n",
    "<img src=\"../img/Pattern18.png\" >\n",
    "\n",
    "<a href=\"https://www.naukri.com/code360/problems/alpha-triangle_6581429\">link to coding_ninjas problem</a>\n",
    "\n",
    "[Click here for solution](./Pattern18.py) "
   ]
  },
  {
   "cell_type": "markdown",
   "id": "8d727cbc-3abe-4a11-a090-51c65cfe2f75",
   "metadata": {},
   "source": [
    "## Pattern 19:\n",
    "\n",
    "<img src=\"../img/Pattern19.png\" >\n",
    "\n",
    "<a href=\"https://www.naukri.com/code360/problems/symmetric-void_6581919\">link to coding_ninjas problem</a>\n",
    "\n",
    "[Click here for solution](./Pattern19.py) "
   ]
  },
  {
   "cell_type": "markdown",
   "id": "05026ce6-b43c-4d4a-91b2-434deb42faf7",
   "metadata": {},
   "source": [
    "## Pattern 20:\n",
    "\n",
    "<img src=\"../img/Pattern20.png\" >\n",
    "\n",
    "<a href=\"https://www.naukri.com/code360/problems/symmetry_6581914\">link to coding_ninjas problem</a>\n",
    "\n",
    "[Click here for solution](./Pattern20.py) "
   ]
  },
  {
   "cell_type": "markdown",
   "id": "7e274ea8-44c6-42a3-946a-6e1f36b3c87c",
   "metadata": {},
   "source": [
    "## Pattern 21:\n",
    "\n",
    "<img src=\"../img/Pattern21.png\" >\n",
    "\n",
    "<a href=\"https://www.naukri.com/code360/problems/ninja-and-the-star-pattern-i_6581920\">link to coding_ninjas problem</a>\n",
    "\n",
    "[Click here for solution](./Pattern21.py) "
   ]
  },
  {
   "cell_type": "markdown",
   "id": "dd73707c-0205-4c05-a23f-1f85dc9ba43a",
   "metadata": {},
   "source": [
    "## Pattern 22:\n",
    "\n",
    "<img src=\"../img/Pattern22.png\" >\n",
    "\n",
    "<a href=\"https://www.naukri.com/code360/problems/ninja-and-the-number-pattern-i_6581959\">link to coding_ninjas problem</a>\n",
    "\n",
    "[Click here for solution](./Pattern22.py) "
   ]
  }
 ],
 "metadata": {
  "kernelspec": {
   "display_name": "Python 3 (ipykernel)",
   "language": "python",
   "name": "python3"
  },
  "language_info": {
   "codemirror_mode": {
    "name": "ipython",
    "version": 3
   },
   "file_extension": ".py",
   "mimetype": "text/x-python",
   "name": "python",
   "nbconvert_exporter": "python",
   "pygments_lexer": "ipython3",
   "version": "3.9.6"
  }
 },
 "nbformat": 4,
 "nbformat_minor": 5
}
