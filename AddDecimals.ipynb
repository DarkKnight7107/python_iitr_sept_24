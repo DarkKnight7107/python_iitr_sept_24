{
 "cells": [
  {
   "cell_type": "code",
   "execution_count": 45,
   "metadata": {},
   "outputs": [],
   "source": [
    "def AddDecimals(dec1,dec2):\n",
    "\n",
    "    #       Finding Number of Decimal Digits in both decimal number\n",
    "    d1DeciDigits = FindDeciDigits(dec1)\n",
    "    d2DeciDigits = FindDeciDigits(dec2)\n",
    "    \n",
    "    print(f\"Number of Decimal Digits in\\ndec1 is {d1DeciDigits}\\ndec2 is {d2DeciDigits}\")\n",
    "\n",
    "    #       Adding zeroes to decimal number which has less decimal digits\n",
    "    if d1DeciDigits > d2DeciDigits:\n",
    "        if d2DeciDigits == 0:\n",
    "            dec2.append('.')\n",
    "        for i in range(d1DeciDigits-d2DeciDigits):\n",
    "            dec2.append('0')\n",
    "    elif d1DeciDigits < d2DeciDigits:\n",
    "        if d1DeciDigits == 0:\n",
    "            dec1.append('.')\n",
    "        for i in range(d2DeciDigits-d1DeciDigits):\n",
    "            dec1.append('0')\n",
    "\n",
    "    print(f\"Numbers after adding zeros are\\n{dec1}\\n{dec2}\")\n",
    "\n",
    "    #       Adding Decimals\n",
    "    dec1.reverse()\n",
    "    dec2.reverse()\n",
    "    print(f\"Reversed numbers are\\n{dec1}\\n{dec2}\")\n",
    "    carry = 0\n",
    "    num = []\n",
    "    for i in range(max(len(dec1),len(dec2))):\n",
    "        if i < len(dec1):\n",
    "            if dec1[i] == '.':\n",
    "                num.append('.')\n",
    "                continue\n",
    "        if i >= len(dec1):\n",
    "            sum = convertToInt(dec2[i]) + carry\n",
    "        elif i >= len(dec2):\n",
    "            sum = convertToInt(dec1[i]) + carry\n",
    "        else:\n",
    "            sum = (convertToInt(dec1[i]) + convertToInt(dec2[i]) + carry)\n",
    "        num.append(sum%10)\n",
    "        carry = sum//10\n",
    "    \n",
    "    dec1.reverse()\n",
    "    dec2.reverse()\n",
    "    if carry != 0:\n",
    "        num.append(carry)\n",
    "    num.reverse()\n",
    "    print(f\"Summation of two numbers is\\n{num}\")\n",
    "    \n",
    "    return(num)\n",
    "\n",
    "\n",
    "def convertToInt(num):\n",
    "    return(ord(num) - ord('0'))\n",
    "\n",
    "def FindDeciDigits(dec):\n",
    "    try:\n",
    "        Digits = len(dec) - dec.index('.') - 1\n",
    "    except:\n",
    "        Digits = 0\n",
    "    return Digits"
   ]
  },
  {
   "cell_type": "code",
   "execution_count": 46,
   "metadata": {},
   "outputs": [
    {
     "name": "stdout",
     "output_type": "stream",
     "text": [
      "Number of Decimal Digits in\n",
      "dec1 is 2\n",
      "dec2 is 1\n",
      "Numbers after adding zeros are\n",
      "['6', '9', '2', '3', '.', '4', '5']\n",
      "['5', '3', '7', '8', '.', '9', '0']\n",
      "Reversed numbers are\n",
      "['5', '4', '.', '3', '2', '9', '6']\n",
      "['0', '9', '.', '8', '7', '3', '5']\n",
      "Summation of two numbers is\n",
      "[1, 2, 3, 0, 2, '.', 3, 5]\n"
     ]
    },
    {
     "data": {
      "text/plain": [
       "[1, 2, 3, 0, 2, '.', 3, 5]"
      ]
     },
     "execution_count": 46,
     "metadata": {},
     "output_type": "execute_result"
    }
   ],
   "source": [
    "d1 = ['6', '9', '2', '3', '.','4', '5']\n",
    "d2 = ['5', '3', '7', '8', '.', '9']\n",
    "AddDecimals(d1,d2)"
   ]
  },
  {
   "cell_type": "code",
   "execution_count": 47,
   "metadata": {},
   "outputs": [
    {
     "data": {
      "text/plain": [
       "12302.349999999999"
      ]
     },
     "execution_count": 47,
     "metadata": {},
     "output_type": "execute_result"
    }
   ],
   "source": [
    "6923.45 + 5378.9"
   ]
  },
  {
   "cell_type": "code",
   "execution_count": 48,
   "metadata": {},
   "outputs": [
    {
     "name": "stdout",
     "output_type": "stream",
     "text": [
      "Number of Decimal Digits in\n",
      "dec1 is 1\n",
      "dec2 is 0\n",
      "Numbers after adding zeros are\n",
      "['1', '3', '.', '0']\n",
      "['9', '7', '.', '0']\n",
      "Reversed numbers are\n",
      "['0', '.', '3', '1']\n",
      "['0', '.', '7', '9']\n",
      "Summation of two numbers is\n",
      "[1, 1, 0, '.', 0]\n"
     ]
    },
    {
     "data": {
      "text/plain": [
       "[1, 1, 0, '.', 0]"
      ]
     },
     "execution_count": 48,
     "metadata": {},
     "output_type": "execute_result"
    }
   ],
   "source": [
    "d1 = ['1','3','.','0']\n",
    "d2 = ['9','7']\n",
    "AddDecimals(d1,d2)"
   ]
  },
  {
   "cell_type": "code",
   "execution_count": 49,
   "metadata": {},
   "outputs": [
    {
     "data": {
      "text/plain": [
       "110.0"
      ]
     },
     "execution_count": 49,
     "metadata": {},
     "output_type": "execute_result"
    }
   ],
   "source": [
    "13.0 + 97"
   ]
  },
  {
   "cell_type": "code",
   "execution_count": null,
   "metadata": {},
   "outputs": [],
   "source": []
  }
 ],
 "metadata": {
  "kernelspec": {
   "display_name": "ml",
   "language": "python",
   "name": "python3"
  },
  "language_info": {
   "codemirror_mode": {
    "name": "ipython",
    "version": 3
   },
   "file_extension": ".py",
   "mimetype": "text/x-python",
   "name": "python",
   "nbconvert_exporter": "python",
   "pygments_lexer": "ipython3",
   "version": "3.12.0"
  }
 },
 "nbformat": 4,
 "nbformat_minor": 2
}
