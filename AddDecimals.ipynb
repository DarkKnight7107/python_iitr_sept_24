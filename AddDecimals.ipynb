{
 "cells": [
  {
   "cell_type": "code",
   "execution_count": 184,
   "metadata": {},
   "outputs": [
    {
     "data": {
      "text/plain": [
       "12301.55"
      ]
     },
     "execution_count": 184,
     "metadata": {},
     "output_type": "execute_result"
    }
   ],
   "source": [
    "d1 = ['6', '9', '2', '3', '.','4', '5']\n",
    "d2 = ['5', '3', '7', '8', '.', '1']\n",
    "\n",
    "6923.45 + 5378.1"
   ]
  },
  {
   "cell_type": "code",
   "execution_count": 185,
   "metadata": {},
   "outputs": [],
   "source": [
    "def AddDecimals(dec1,dec2):\n",
    "\n",
    "    #       Finding Number of Decimal Digits in both decimal number\n",
    "    try:\n",
    "        d1DeciDigits = len(dec1) - dec1.index('.') - 1\n",
    "    except:\n",
    "        d1DeciDigits = 0\n",
    "    \n",
    "    try:\n",
    "        d2DeciDigits = len(dec2) - dec2.index('.') - 1\n",
    "    except:\n",
    "        d2DeciDigits = 0\n",
    "    print(\"Number of Decimal Digits\")\n",
    "    print(d1DeciDigits,d2DeciDigits)\n",
    "\n",
    "\n",
    "    #       Adding zeroes to decimal number which has less decimal digits\n",
    "    if d1DeciDigits > d2DeciDigits:\n",
    "        if d2DeciDigits == 0:\n",
    "            dec2.append('.')\n",
    "        for i in range(d1DeciDigits-d2DeciDigits):\n",
    "            dec2.append('0')\n",
    "    elif d1DeciDigits < d2DeciDigits:\n",
    "        if d1DeciDigits == 0:\n",
    "            dec1.append('.')\n",
    "        for i in range(d2DeciDigits-d1DeciDigits):\n",
    "            dec1.append('0')\n",
    "\n",
    "    print(\"numbers after adding zeros\")\n",
    "    print(dec1)\n",
    "    print(dec2)\n",
    "\n",
    "\n",
    "    #       Adding Decimals\n",
    "    dec1.reverse()\n",
    "    dec2.reverse()\n",
    "\n",
    "    print(\"Reversed numbers\")\n",
    "    print(dec1)\n",
    "    print(dec2)\n",
    "\n",
    "    carry = 0\n",
    "    num = []\n",
    "\n",
    "    for i in range(max(len(dec1),len(dec2))):\n",
    "        if i < len(dec1):\n",
    "            if dec1[i] == '.':\n",
    "                num.append('.')\n",
    "                continue\n",
    "        if i >= len(dec1):\n",
    "            sum = convertToInt(dec2[i]) + carry\n",
    "        elif i >= len(dec2):\n",
    "            sum = convertToInt(dec1[i]) + carry\n",
    "        else:\n",
    "            sum = (convertToInt(dec1[i]) + convertToInt(dec2[i]) + carry)\n",
    "        num.append(sum%10)\n",
    "        carry = sum//10\n",
    "    \n",
    "    dec1.reverse()\n",
    "    dec2.reverse()\n",
    "    if carry != 0:\n",
    "        num.append(carry)\n",
    "    num.reverse()\n",
    "    print(\"number\")\n",
    "    print(num)\n",
    "    return(num)\n",
    "\n",
    "\n",
    "def convertToInt(num):\n",
    "    return(ord(num) - ord('0'))"
   ]
  },
  {
   "cell_type": "code",
   "execution_count": 186,
   "metadata": {},
   "outputs": [
    {
     "name": "stdout",
     "output_type": "stream",
     "text": [
      "Number of Decimal Digits\n",
      "2 1\n",
      "numbers after adding zeros\n",
      "['6', '9', '2', '3', '.', '4', '5']\n",
      "['5', '3', '7', '8', '.', '1', '0']\n",
      "Reversed numbers\n",
      "['5', '4', '.', '3', '2', '9', '6']\n",
      "['0', '1', '.', '8', '7', '3', '5']\n",
      "number\n",
      "[1, 2, 3, 0, 1, '.', 5, 5]\n"
     ]
    },
    {
     "data": {
      "text/plain": [
       "[1, 2, 3, 0, 1, '.', 5, 5]"
      ]
     },
     "execution_count": 186,
     "metadata": {},
     "output_type": "execute_result"
    }
   ],
   "source": [
    "AddDecimals(d1,d2)"
   ]
  },
  {
   "cell_type": "code",
   "execution_count": 189,
   "metadata": {},
   "outputs": [
    {
     "name": "stdout",
     "output_type": "stream",
     "text": [
      "Number of Decimal Digits\n",
      "1 0\n",
      "numbers after adding zeros\n",
      "['1', '3', '.', '0']\n",
      "['9', '7', '.', '0']\n",
      "Reversed numbers\n",
      "['0', '.', '3', '1']\n",
      "['0', '.', '7', '9']\n",
      "number\n",
      "[1, 1, 0, '.', 0]\n"
     ]
    },
    {
     "data": {
      "text/plain": [
       "[1, 1, 0, '.', 0]"
      ]
     },
     "execution_count": 189,
     "metadata": {},
     "output_type": "execute_result"
    }
   ],
   "source": [
    "d1 = ['1','3','.','0']\n",
    "d2 = ['9','7']\n",
    "AddDecimals(d1,d2)"
   ]
  },
  {
   "cell_type": "code",
   "execution_count": 190,
   "metadata": {},
   "outputs": [
    {
     "data": {
      "text/plain": [
       "110.0"
      ]
     },
     "execution_count": 190,
     "metadata": {},
     "output_type": "execute_result"
    }
   ],
   "source": [
    "13.0 + 97"
   ]
  },
  {
   "cell_type": "code",
   "execution_count": null,
   "metadata": {},
   "outputs": [],
   "source": []
  }
 ],
 "metadata": {
  "kernelspec": {
   "display_name": "ml",
   "language": "python",
   "name": "python3"
  },
  "language_info": {
   "codemirror_mode": {
    "name": "ipython",
    "version": 3
   },
   "file_extension": ".py",
   "mimetype": "text/x-python",
   "name": "python",
   "nbconvert_exporter": "python",
   "pygments_lexer": "ipython3",
   "version": "3.12.0"
  }
 },
 "nbformat": 4,
 "nbformat_minor": 2
}
