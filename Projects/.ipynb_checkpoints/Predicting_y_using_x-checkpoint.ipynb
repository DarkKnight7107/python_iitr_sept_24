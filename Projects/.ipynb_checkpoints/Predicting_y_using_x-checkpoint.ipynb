{
 "cells": [
  {
   "cell_type": "markdown",
   "id": "92de8d10-76e6-4ab0-a09a-48dbef1e3a9d",
   "metadata": {},
   "source": [
    "# Predicting y using x and 2 points given on same line"
   ]
  },
  {
   "cell_type": "markdown",
   "id": "309cd4e7-f354-4ac6-bb36-5390b5982270",
   "metadata": {},
   "source": [
    "## Deriving Formulas"
   ]
  },
  {
   "cell_type": "markdown",
   "id": "ad5b3a19-9bed-47e0-8c0a-e529ec98c6eb",
   "metadata": {},
   "source": [
    "To start predicting the value of y with x lets just see the 2 points given.<br><br>\n",
    "Let's assume the points are A (1,5) and B (2,9)<br>\n",
    "now put the points on graph we get:"
   ]
  },
  {
   "cell_type": "markdown",
   "id": "402e133a-e021-498f-912c-ad987c847f61",
   "metadata": {},
   "source": [
    "<img src=\"../img/AB.png\" alt=\"line AB graph\" style=\"width:200px;\"/>"
   ]
  },
  {
   "cell_type": "markdown",
   "id": "71125610-b5d3-4228-888b-9c8788bae42c",
   "metadata": {},
   "source": [
    "So how much we traveled on x-axis from the initial point 'A' till the final point 'B'<br>\n",
    "we traveled(change in x): x2-x1 on the x-axis.<br>\n",
    "change in x = 2-1\n",
    "chnage in x = 1<br><br>\n",
    "Simillarly,<br><br>\n",
    "How much we traveled on y-axis from the initial point 'A' till the final point 'B'<br>\n",
    "we traveled(change in y): y2-y1 on the y-axis.<br>\n",
    "change in y = 9-5\n",
    "chnage in y = 4<br><br>\n",
    "now let's find the ratio of change in y with respect to cahange in x(m). (Because we wanna find y using x).<br>\n",
    "\n",
    "```\n",
    "    cahnge in y   y2-y1\n",
    "m = ----------- = -----\n",
    "    change in x   x2-x1\n",
    "```\n",
    "<br>\n",
    "\n",
    "```\n",
    "    cahnge in y   4\n",
    "m = ----------- = - (putting the values)\n",
    "    change in x   1\n",
    "```\n",
    "<br> Thus m = 4\n",
    "<br> This means **y = m(x)** and **m = (y2-y1)/(x2-x1)**<br><br>\n",
    "\n",
    "Let's try this:<br>\n",
    "for A (1,5)\n",
    "x = 1 and y = 5<br>\n",
    "using formula: y = m(x)<br>\n",
    "5 = 4(1)<br>\n",
    "5 = 4 ,here it's not equal we must add 1 but why so<br><br>\n",
    "\n",
    "Let's try for B (2,9)\n",
    "x = 2 and y = 9<br>\n",
    "using formula: y = m(x)<br>\n",
    "9 = 4(2)<br>\n",
    "9 = 8 ,here it's not equal we must add 1 but why so<br><br>\n",
    "\n",
    "why we are adding 1 to make it equal, let's again move towards graph:"
   ]
  },
  {
   "cell_type": "markdown",
   "id": "e904227f-2642-4173-971b-ea94db0d7793",
   "metadata": {},
   "source": [
    "<img src=\"../img/extended_AB.png\" alt=\"extended line AB graph\" style=\"width:200px;\"/>"
   ]
  },
  {
   "cell_type": "markdown",
   "id": "5aa58290-f83d-4661-94a2-c1fe8a4d66db",
   "metadata": {},
   "source": [
    "In the Graph if we extend the line AB, we can see it cuts the y-axis on 1<br>\n",
    "which tells that yes y = m(x) but we have to add the starting of y (c) to get the value which is 1 in this case.<br><br>\n",
    "\n",
    "so the new formula to get y with respect to x is: **y = m(x) +c** *(proof for Slope Intercept form of straight line)*<br><br> \n",
    "\n",
    "But how we can get c for other cases:\n",
    "By now we know y = m(x) + c<br>\n",
    "we can write:<br>\n",
    "**c = y-m(x)**<br><br>\n",
    "\n",
    "Let's try this:<br>\n",
    "for A (1,5)\n",
    "c = 5 - 4(1), using c = y-m(x)<br>\n",
    "c = 1, it is satisfying.<br><br>\n",
    "\n",
    "Let's try this for B (2,9):<br>\n",
    "c = 9 - 4(2), using c = y-m(x)<br>\n",
    "c = 1, it is satisfying.<br><br>\n",
    "The logic is we are drwaing a line from c where the line cuts y-axis (x=0) till x given with the slope m and then finding the y at the end."
   ]
  },
  {
   "cell_type": "markdown",
   "id": "07124d29-e1a9-485a-8704-90cb875d029f",
   "metadata": {},
   "source": [
    "## Formulas are:"
   ]
  },
  {
   "cell_type": "markdown",
   "id": "582c3c24-1218-48a9-8117-e2fca7e0f386",
   "metadata": {},
   "source": [
    "- m = (y2-y1)/(x2-x1) :slope of the line<br> \n",
    "- c = y-m(x) :starting point of the line<br>\n",
    "- x = given :total length of line (x-0, as the value of x at starting point is 0)<br>\n",
    "- y = m(x) +c"
   ]
  },
  {
   "cell_type": "markdown",
   "id": "f7ad538f-f9be-4b81-87f4-d661f5760c1c",
   "metadata": {},
   "source": [
    "## Let's code this to find m and c"
   ]
  },
  {
   "cell_type": "code",
   "execution_count": 1,
   "id": "a5d69071-41f3-470c-84fa-77ac4193f30f",
   "metadata": {},
   "outputs": [],
   "source": [
    "def learn(x1,y1,x2,y2):\n",
    "    m = (y2-y1)/(x2-x1)\n",
    "    c = y1-(m*x1)\n",
    "    return m,c"
   ]
  },
  {
   "cell_type": "code",
   "execution_count": 2,
   "id": "d9132522-3bb9-4020-8e9b-eb532f4cd791",
   "metadata": {},
   "outputs": [
    {
     "name": "stdout",
     "output_type": "stream",
     "text": [
      "(4.0, 1.0)\n"
     ]
    }
   ],
   "source": [
    "m_c=learn(1,5,2,9)\n",
    "print(m_c)"
   ]
  },
  {
   "cell_type": "markdown",
   "id": "0563e74e-dfdf-4232-88d6-b0829fbf7862",
   "metadata": {},
   "source": [
    "## Let's code to predict the y using x (m and c)"
   ]
  },
  {
   "cell_type": "code",
   "execution_count": 3,
   "id": "cf719574-0fef-4020-a555-6c4a01c24879",
   "metadata": {},
   "outputs": [],
   "source": [
    "def predict(x,m_c):\n",
    "    return (m_c[0]*x)+m_c[1]"
   ]
  },
  {
   "cell_type": "code",
   "execution_count": 4,
   "id": "e5f53cbb-1da9-41ca-a732-095b52146d27",
   "metadata": {
    "scrolled": true
   },
   "outputs": [
    {
     "data": {
      "text/plain": [
       "13.0"
      ]
     },
     "execution_count": 4,
     "metadata": {},
     "output_type": "execute_result"
    }
   ],
   "source": [
    "predict (3,m_c)"
   ]
  },
  {
   "cell_type": "markdown",
   "id": "bc97e3c4-2dc6-4140-b6a0-839e23dce44c",
   "metadata": {},
   "source": [
    "Here we are trying to draw the below line:\n",
    "\n",
    "<img src=\"../img/predict_y1.png\" alt=\"drawing line from y-axis\" style=\"width:200px;\"/>"
   ]
  },
  {
   "cell_type": "markdown",
   "id": "8836e874-18e4-47d1-8ec0-0ce5caa79fb2",
   "metadata": {},
   "source": [
    "## Let's do it another way"
   ]
  },
  {
   "cell_type": "markdown",
   "id": "a5c16451-0881-4a88-91ce-c494a40fe6fa",
   "metadata": {},
   "source": [
    "we know:\n",
    "- m = (y2-y1)/(x2-x1) :slope of the line<br> \n",
    "- c = y-m(x) :starting point of the line<br>\n",
    "- x = given :total length of line (x-0, as the value of x at starting point is 0)<br>\n",
    "- y = m(x) +c"
   ]
  },
  {
   "cell_type": "markdown",
   "id": "60f8c183-bdbb-4c81-be5b-19d14adee0e8",
   "metadata": {},
   "source": [
    "lets say:\n",
    "- m = (y2-y1)/(x2-x1) : slope of the line<br>\n",
    "- c = y1 : let starting point be y1<br>\n",
    "- total length of line = x-x1 (as value of x at the starting of point is x1)\n",
    "- y = y1 + m(x-x1)<br><br>\n",
    "So the formula will be: **y = y1 + m(x-x1)** (proof for Point slope form of straight line)"
   ]
  },
  {
   "cell_type": "markdown",
   "id": "334b4ad1-9307-4df9-924a-7f8de4cb0fde",
   "metadata": {},
   "source": [
    "Here we are trying to draw the below line:\n",
    "\n",
    "<img src=\"../img/predict_y2.png\" alt=\"drawing line from A\" style=\"width:200px;\"/>"
   ]
  },
  {
   "cell_type": "markdown",
   "id": "b91a2a2d-68a3-4490-9689-a2b865bd84a0",
   "metadata": {},
   "source": [
    "## Let's code to predict y using x (without c)"
   ]
  },
  {
   "cell_type": "code",
   "execution_count": 5,
   "id": "a0114209-2ca5-40f4-9972-92f484e72888",
   "metadata": {},
   "outputs": [],
   "source": [
    "def Predict(x1,y1,x2,y2,x):\n",
    "    return y1 + ((y2-y1)/(x2-x1)*(x-x1))"
   ]
  },
  {
   "cell_type": "code",
   "execution_count": 6,
   "id": "765e71df-d0f9-420e-8fd7-32f51ee6953e",
   "metadata": {},
   "outputs": [
    {
     "data": {
      "text/plain": [
       "13.0"
      ]
     },
     "execution_count": 6,
     "metadata": {},
     "output_type": "execute_result"
    }
   ],
   "source": [
    "Predict(1,5,2,9,3)"
   ]
  }
 ],
 "metadata": {
  "kernelspec": {
   "display_name": "Python 3 (ipykernel)",
   "language": "python",
   "name": "python3"
  },
  "language_info": {
   "codemirror_mode": {
    "name": "ipython",
    "version": 3
   },
   "file_extension": ".py",
   "mimetype": "text/x-python",
   "name": "python",
   "nbconvert_exporter": "python",
   "pygments_lexer": "ipython3",
   "version": "3.9.6"
  }
 },
 "nbformat": 4,
 "nbformat_minor": 5
}
