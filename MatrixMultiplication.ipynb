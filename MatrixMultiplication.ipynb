{
 "cells": [
  {
   "cell_type": "code",
   "execution_count": 83,
   "metadata": {},
   "outputs": [],
   "source": [
    "mat1 = [\n",
    "    [1,2],\n",
    "    [3,4],\n",
    "    [5,6]\n",
    "    ]\n",
    "\n",
    "mat2 = [\n",
    "    [2,5,6,7],\n",
    "    [9,1,5,8]\n",
    "    ]\n",
    "answer = [\n",
    "    [20, 7, 16, 23], \n",
    "    [42, 19, 38, 53], \n",
    "    [64, 31, 60, 83]\n",
    "    ]"
   ]
  },
  {
   "cell_type": "code",
   "execution_count": 84,
   "metadata": {},
   "outputs": [],
   "source": [
    "def transpose(mat):\n",
    "    row = []\n",
    "    new_mat = []\n",
    "    for i in range(len(mat[0])):\n",
    "        for j in range(len(mat)):\n",
    "            row.append(mat[j][i])\n",
    "        new_mat.append(row)\n",
    "        row = []\n",
    "    return new_mat\n",
    "\n",
    "def MatrixMultiplication(matrix1,matrix2):\n",
    "\n",
    "    if len(matrix1[0]) != len(matrix2):\n",
    "        return None\n",
    "    \n",
    "    matrix2 = transpose(matrix2)\n",
    "    answer = []\n",
    "    row = []\n",
    "    sum = 0\n",
    "\n",
    "    for i in range(len(matrix1)):\n",
    "        for j in range(len(matrix2)):\n",
    "            for k in range(len(matrix1[0])):\n",
    "                sum = sum + matrix1[i][k]*matrix2[j][k]\n",
    "            row.append(sum)\n",
    "            sum = 0\n",
    "        answer.append(row)\n",
    "        row = []\n",
    "    \n",
    "    return answer\n"
   ]
  },
  {
   "cell_type": "code",
   "execution_count": 85,
   "metadata": {},
   "outputs": [
    {
     "data": {
      "text/plain": [
       "[[20, 7, 16, 23], [42, 19, 38, 53], [64, 31, 60, 83]]"
      ]
     },
     "execution_count": 85,
     "metadata": {},
     "output_type": "execute_result"
    }
   ],
   "source": [
    "MatrixMultiplication(mat1,mat2)"
   ]
  },
  {
   "cell_type": "code",
   "execution_count": 86,
   "metadata": {},
   "outputs": [
    {
     "data": {
      "text/plain": [
       "[[48, 60], [57, 72]]"
      ]
     },
     "execution_count": 86,
     "metadata": {},
     "output_type": "execute_result"
    }
   ],
   "source": [
    "A = [[1, 4, 7], \n",
    "     [2, 5, 8]]\n",
    "\n",
    "B = [[1, 2], \n",
    "     [3, 4], \n",
    "     [5, 6]]\n",
    "\n",
    "# Resulting matrix C\n",
    "C = [[48, 60], \n",
    "     [57, 72]]\n",
    "\n",
    "MatrixMultiplication(A,B)"
   ]
  },
  {
   "cell_type": "code",
   "execution_count": 87,
   "metadata": {},
   "outputs": [
    {
     "data": {
      "text/plain": [
       "[[1716, 1752, 1788, 1824, 1860, 1896, 1932, 1968, 2004, 2040],\n",
       " [4020, 4120, 4220, 4320, 4420, 4520, 4620, 4720, 4820, 4920],\n",
       " [6324, 6488, 6652, 6816, 6980, 7144, 7308, 7472, 7636, 7800],\n",
       " [8628, 8856, 9084, 9312, 9540, 9768, 9996, 10224, 10452, 10680],\n",
       " [10932, 11224, 11516, 11808, 12100, 12392, 12684, 12976, 13268, 13560],\n",
       " [13236, 13592, 13948, 14304, 14660, 15016, 15372, 15728, 16084, 16440],\n",
       " [15540, 15960, 16380, 16800, 17220, 17640, 18060, 18480, 18900, 19320]]"
      ]
     },
     "execution_count": 87,
     "metadata": {},
     "output_type": "execute_result"
    }
   ],
   "source": [
    "\n",
    "#########           Used ChatGPT to generate these matrices and calculate their product for verification\n",
    "\n",
    "\n",
    "# 7x8 Matrix A\n",
    "A = [\n",
    "    [1, 2, 3, 4, 5, 6, 7, 8],\n",
    "    [9, 10, 11, 12, 13, 14, 15, 16],\n",
    "    [17, 18, 19, 20, 21, 22, 23, 24],\n",
    "    [25, 26, 27, 28, 29, 30, 31, 32],\n",
    "    [33, 34, 35, 36, 37, 38, 39, 40],\n",
    "    [41, 42, 43, 44, 45, 46, 47, 48],\n",
    "    [49, 50, 51, 52, 53, 54, 55, 56]\n",
    "]\n",
    "\n",
    "# 8x10 Matrix B\n",
    "B = [\n",
    "    [1, 2, 3, 4, 5, 6, 7, 8, 9, 10],\n",
    "    [11, 12, 13, 14, 15, 16, 17, 18, 19, 20],\n",
    "    [21, 22, 23, 24, 25, 26, 27, 28, 29, 30],\n",
    "    [31, 32, 33, 34, 35, 36, 37, 38, 39, 40],\n",
    "    [41, 42, 43, 44, 45, 46, 47, 48, 49, 50],\n",
    "    [51, 52, 53, 54, 55, 56, 57, 58, 59, 60],\n",
    "    [61, 62, 63, 64, 65, 66, 67, 68, 69, 70],\n",
    "    [71, 72, 73, 74, 75, 76, 77, 78, 79, 80]\n",
    "]\n",
    "\n",
    "# Resulting matrix C will be a 7x10 matrix\n",
    "# After calculating, let's assume this is the resulting C matrix (values computed manually or using a script):\n",
    "C = [\n",
    "    [1716, 1752, 1788, 1824, 1860, 1896, 1932, 1968, 2004, 2040],\n",
    "    [4020, 4120, 4220, 4320, 4420, 4520, 4620, 4720, 4820, 4920],\n",
    "    [6324, 6488, 6652, 6816, 6980, 7144, 7308, 7472, 7636, 7800],\n",
    "    [8628, 8856, 9084, 9312, 9540, 9768, 9996, 10224, 10452, 10680],\n",
    "    [10932, 11224, 11516, 11808, 12100, 12392, 12684, 12976, 13268, 13560],\n",
    "    [13236, 13592, 13948, 14304, 14660, 15016, 15372, 15728, 16084, 16440],\n",
    "    [15540, 15960, 16380, 16800, 17220, 17640, 18060, 18480, 18900, 19320]\n",
    "]\n",
    "\n",
    "MatrixMultiplication(A,B)\n"
   ]
  },
  {
   "cell_type": "code",
   "execution_count": null,
   "metadata": {},
   "outputs": [],
   "source": []
  }
 ],
 "metadata": {
  "kernelspec": {
   "display_name": "ml",
   "language": "python",
   "name": "python3"
  },
  "language_info": {
   "codemirror_mode": {
    "name": "ipython",
    "version": 3
   },
   "file_extension": ".py",
   "mimetype": "text/x-python",
   "name": "python",
   "nbconvert_exporter": "python",
   "pygments_lexer": "ipython3",
   "version": "3.12.0"
  }
 },
 "nbformat": 4,
 "nbformat_minor": 2
}
